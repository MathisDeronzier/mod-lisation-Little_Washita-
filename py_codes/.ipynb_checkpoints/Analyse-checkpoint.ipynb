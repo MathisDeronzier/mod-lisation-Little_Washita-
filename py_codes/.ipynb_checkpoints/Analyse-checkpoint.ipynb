{
 "cells": [
  {
   "cell_type": "code",
   "execution_count": null,
   "metadata": {},
   "outputs": [],
   "source": [
    "# Analyse des données NARR et des données fournies par HGS\n",
    "\n",
    "#Liste des programmes nécesssaires:\n",
    "#-CDFT \n",
    "#-CDFT-reg-lin\n",
    "#-transport minimale \n",
    "\n",
    "#Liste des analyses à réaliser:\n",
    "#-Analyse générale: moyenne-variance-quantiles (pas si nécessaire)\n",
    "#-Analyse avec méthode de régression pour faire passer les droites et trouver les échantillons\n",
    "\n"
   ]
  }
 ],
 "metadata": {
  "kernelspec": {
   "display_name": "Python 3",
   "language": "python",
   "name": "python3"
  },
  "language_info": {
   "codemirror_mode": {
    "name": "ipython",
    "version": 3
   },
   "file_extension": ".py",
   "mimetype": "text/x-python",
   "name": "python",
   "nbconvert_exporter": "python",
   "pygments_lexer": "ipython3",
   "version": "3.7.6"
  }
 },
 "nbformat": 4,
 "nbformat_minor": 4
}

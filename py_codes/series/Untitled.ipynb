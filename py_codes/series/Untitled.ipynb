{
 "cells": [
  {
   "cell_type": "code",
   "execution_count": 108,
   "metadata": {},
   "outputs": [],
   "source": [
    "#On commence par définir les fonctions qui seront utiles\n",
    "\n",
    "import numpy as np\n",
    "import os\n",
    "from scipy.optimize import minimize\n",
    "from matplotlib import cm\n",
    "from matplotlib.ticker import LinearLocator, FormatStrFormatter\n",
    "import matplotlib.pyplot as plt\n",
    "import random\n",
    "from mpl_toolkits import mplot3d\n",
    "\n",
    "def dist(u,v,x):\n",
    "    y=((x-v)-u*(x-v).dot(u))\n",
    "    return y.dot(y)\n",
    "\n",
    "X=np.arange(100).reshape((2,50))\n",
    "    \n",
    "def f(U):\n",
    "    tot=0\n",
    "    for x in X:\n",
    "        tot+=min(dist(U[0],U[1],x), dist(U[2],U[3],x))\n",
    "    return tot\n",
    "\n",
    "def grad(f,U,eps):\n",
    "    dim=U.shape()\n",
    "    grad=np.zeros((dim[0],dim[1]))\n",
    "    for i in range(dim[0]):\n",
    "        for j in range(dim[1]):\n",
    "            U_1=U\n",
    "            U_1[i,j]=U_1[i,j]+eps\n",
    "            grad[i,j]=(f(U_1)-f(U))/eps\n",
    "    return grad\n",
    "\n",
    "def armijo(f,U,eps):\n",
    "    alpha=1\n",
    "    G=grad(f,U,eps)\n",
    "    while f(U-alpha*G)>-alpha*G.dot(G)/2:\n",
    "        alpha/=2\n",
    "    return U-alpha*G\n",
    "\n",
    "def proj(U):\n",
    "    U[0]=U[0]/(U[0].dot(U[0]))\n",
    "    U[2]=U[2]/(U[2].dot(U[2]))\n",
    "    \n",
    "def uzawa(f,U_0,eps):\n",
    "    #On pose une condition d'arrêt\n",
    "    U_1=proj(armijo(f,U_0,eps))\n",
    "    while f(U_1)-f(U_1)>100*eps:\n",
    "        U_0, U_1 = U_1, proj(armijo(f,U_0,eps))\n",
    "    return U_1\n",
    "\n",
    "\n",
    "def intersect(X,Y):\n",
    "    #renvoie l'intersection de deux list triée par ordre croissant\n",
    "    n=len(X)\n",
    "    m=len(Y)\n",
    "    a=0\n",
    "    b=0\n",
    "    l=[]\n",
    "    while a<n and b<m:\n",
    "        if X[a]==Y[b]:\n",
    "            l.append(X[a])\n",
    "            a+=1\n",
    "            b+=1\n",
    "        else:\n",
    "            if X[a]>Y[b]:\n",
    "                b+=1\n",
    "            else:\n",
    "                a+=1\n",
    "    return np.array(l)"
   ]
  },
  {
   "cell_type": "code",
   "execution_count": 5,
   "metadata": {},
   "outputs": [
    {
     "data": {
      "text/plain": [
       "'/home/mathis/stage/R_codes/series'"
      ]
     },
     "execution_count": 5,
     "metadata": {},
     "output_type": "execute_result"
    }
   ],
   "source": [
    "os.getcwd()"
   ]
  },
  {
   "cell_type": "code",
   "execution_count": 8,
   "metadata": {},
   "outputs": [],
   "source": [
    "Dates=pd.read_csv(\"dates_1979_2014.csv\", index_col=0).to_numpy()\n",
    "dates=np.where(Dates[:,0]>=1996)[0]\n",
    "\n",
    "etp_dsI=pd.read_csv(\"etp_dsI.csv\", index_col=0).to_numpy()\n",
    "n=len(etp_dsI)"
   ]
  },
  {
   "cell_type": "code",
   "execution_count": 12,
   "metadata": {},
   "outputs": [],
   "source": [
    "ETP_series=np.zeros((n,11))\n",
    "pr_series=np.zeros((n,11))\n",
    "prr_series=np.zeros((n,11))\n",
    "deb_series=np.zeros((n,11))\n",
    "etr_series=np.zeros((n,11))\n",
    "\n",
    "\n",
    "#On ouvre les fichiers de \n",
    "#simulations_ref=pd.read_csv('simu_ref.csv', index_col=0).to_numpy()[:,np.array([0,1,2,17])]\n",
    "#simulations_ds1=pd.read_csv('simu_ds1.csv', index_col=0).to_numpy()[:,np.array([0,1,2,17])]\n",
    "#simulations_ds2=pd.read_csv('simu_ds2.csv', index_col=0).to_numpy()[:,np.array([1,2,3,18])]\n",
    "#simulations_ds3=pd.read_csv('simu_ds3.csv', index_col=0).to_numpy()[:,np.array([1,2,3,18])]\n",
    "#simulations_ds4=pd.read_csv('simu_ds4.csv', index_col=0).to_numpy()[:,np.array([1,2,3,18])]\n",
    "#simulations_dsI=pd.read_csv('simu_dsI.csv', index_col=0).to_numpy()[:,np.array([1,2,3,18])]"
   ]
  },
  {
   "cell_type": "code",
   "execution_count": 40,
   "metadata": {},
   "outputs": [],
   "source": [
    "times=np.zeros((n,11))\n",
    "times[:,0]= np.where(pd.read_csv('simu_ref.csv', index_col=0).to_numpy()[:,0]%86400 ==0)[0]\n",
    "times[:,1]= np.where( pd.read_csv('simu_ds1.csv', index_col=0).to_numpy()[:,0]%86400 ==0)[0]\n",
    "times[:,2]= np.where( pd.read_csv('simu_ds2.csv', index_col=0).to_numpy()[:,0]%86400 ==0)[0]\n",
    "times[:,3]= np.where( pd.read_csv('simu_ds3.csv', index_col=0).to_numpy()[:,0]%86400 ==0)[0]\n",
    "times[:,4]= np.where( pd.read_csv('simu_ds4.csv', index_col=0).to_numpy()[:,0]%86400 ==0)[0]\n",
    "times[:,5]= np.where( pd.read_csv('simu_dsI.csv', index_col=0).to_numpy()[:,0]%86400 ==0)[0]\n",
    "times[:,6]= np.where( pd.read_csv('simu_deg1.csv', index_col=0).to_numpy()[:,0]%86400 ==0)[0]\n",
    "times[:,7]= np.where( pd.read_csv('simu_deg2.csv', index_col=0).to_numpy()[:,0]%86400 ==0)[0]\n",
    "times[:,8]= np.where( pd.read_csv('simu_deg3.csv', index_col=0).to_numpy()[:,0]%86400 ==0)[0]\n",
    "times[:,9]= np.where( pd.read_csv('simu_deg4.csv', index_col=0).to_numpy()[:,0]%86400 ==0)[0]\n",
    "times[:,10]= np.where( pd.read_csv('simu_IPSL.csv', index_col=0).to_numpy()[:,0]%86400 ==0)[0]\n",
    "\n",
    "times=times.astype(int)"
   ]
  },
  {
   "cell_type": "code",
   "execution_count": 57,
   "metadata": {},
   "outputs": [],
   "source": [
    "for i in range(6):\n",
    "    if i==0:\n",
    "        ETP_series[:,i]=pd.read_csv('etp_ref.csv', index_col=0).to_numpy()[:,0]\n",
    "        pr_series[:,i]=pd.read_csv('pr_ref.csv', index_col=0).to_numpy()[:,0]\n",
    "        deb_series[:,i]=-pd.read_csv('simu_ref.csv', index_col=0).to_numpy()[times[:,0],1]\n",
    "        prr_series[:,i]=pd.read_csv('simu_ref.csv', index_col=0).to_numpy()[times[:,0],2]\n",
    "        etr_series[:,i]=pd.read_csv('simu_ref.csv', index_col=0).to_numpy()[times[:,0],17]\n",
    "    if i<5 and i>0:\n",
    "        ETP_series[:,i]=pd.read_csv('etp_ds'+str(i)+'.csv', index_col=0).to_numpy()[:,0]\n",
    "        pr_series[:,i]=pd.read_csv('pr_ds'+str(i)+'.csv', index_col=0).to_numpy()[:,0]\n",
    "        deb_series[:,i]=-pd.read_csv('simu_ds'+str(i)+'.csv', index_col=0).to_numpy()[times[:,i],1]\n",
    "        prr_series[:,i]=pd.read_csv('simu_ds'+str(i)+'.csv', index_col=0).to_numpy()[times[:,i],2]\n",
    "        etr_series[:,i]=pd.read_csv('simu_ds'+str(i)+'.csv', index_col=0).to_numpy()[times[:,i],17]\n",
    "        \n",
    "        ETP_series[:,i+5]=pd.read_csv('etp_deg'+str(i)+'.csv', index_col=0).to_numpy()[:,0]\n",
    "        pr_series[:,i+5]=pd.read_csv('pr_deg'+str(i)+'.csv', index_col=0).to_numpy()[:,0]\n",
    "        deb_series[:,i+5]=-pd.read_csv('simu_deg'+str(i)+'.csv', index_col=0).to_numpy()[times[:,i],1]\n",
    "        prr_series[:,i+5]=pd.read_csv('simu_deg'+str(i)+'.csv', index_col=0).to_numpy()[times[:,i],2]\n",
    "        etr_series[:,i+5]=pd.read_csv('simu_deg'+str(i)+'.csv', index_col=0).to_numpy()[times[:,i],17]\n",
    "    if i==5:\n",
    "        ETP_series[:,i]=pd.read_csv('etp_dsI.csv', index_col=0).to_numpy()[:,0]\n",
    "        pr_series[:,i]=pd.read_csv('pr_dsI.csv', index_col=0).to_numpy()[:,0]\n",
    "        deb_series[:,i]=-pd.read_csv('simu_dsI.csv', index_col=0).to_numpy()[times[:,i],1]\n",
    "        prr_series[:,i]=pd.read_csv('simu_dsI.csv', index_col=0).to_numpy()[times[:,0],2]\n",
    "        etr_series[:,i]=pd.read_csv('simu_dsI.csv', index_col=0).to_numpy()[times[:,i],17]\n",
    "        \n",
    "        ETP_series[:,i+5]=pd.read_csv('etp_IPSL.csv', index_col=0).to_numpy()[:,0]\n",
    "        pr_series[:,i+5]=pd.read_csv('pr_IPSL.csv', index_col=0).to_numpy()[:,0]\n",
    "        deb_series[:,i+5]=-pd.read_csv('simu_IPSL.csv', index_col=0).to_numpy()[times[:,i],1]\n",
    "        prr_series[:,i+5]=pd.read_csv('simu_IPSL.csv', index_col=0).to_numpy()[times[:,i],2]\n",
    "        etr_series[:,i+5]=pd.read_csv('simu_IPSL.csv', index_col=0).to_numpy()[times[:,i],17]"
   ]
  },
  {
   "cell_type": "markdown",
   "metadata": {},
   "source": [
    "## Analyse des séries des précipitations et des débits\n",
    "\n",
    "Ilfaudra faire attention à bien avoir les données dans le même "
   ]
  },
  {
   "cell_type": "code",
   "execution_count": 109,
   "metadata": {
    "scrolled": false
   },
   "outputs": [
    {
     "data": {
      "image/png": "[encoded data removed]",
      "text/plain": [
       "<Figure size 432x288 with 1 Axes>"
      ]
     },
     "metadata": {
      "needs_background": "light"
     },
     "output_type": "display_data"
    },
    {
     "data": {
      "image/png": "[encoded data removed]",
      "text/plain": [
       "<Figure size 432x288 with 1 Axes>"
      ]
     },
     "metadata": {
      "needs_background": "light"
     },
     "output_type": "display_data"
    },
    {
     "data": {
      "image/png": "[encoded data removed]",
      "text/plain": [
       "<Figure size 432x288 with 1 Axes>"
      ]
     },
     "metadata": {
      "needs_background": "light"
     },
     "output_type": "display_data"
    },
    {
     "data": {
      "image/png": "[encoded data removed]",
      "text/plain": [
       "<Figure size 432x288 with 1 Axes>"
      ]
     },
     "metadata": {
      "needs_background": "light"
     },
     "output_type": "display_data"
    },
    {
     "data": {
      "image/png": "[encoded data removed]",
      "text/plain": [
       "<Figure size 432x288 with 1 Axes>"
      ]
     },
     "metadata": {
      "needs_background": "light"
     },
     "output_type": "display_data"
    }
   ],
   "source": [
    "points_pr=np.where(pr_series[:,0]>0)[0]\n",
    "points_prr=np.where(prr_series[:,0]>0)[0]\n",
    "points_deb=np.where(deb_series[:,0]>0)[0]\n",
    "points=intersect(points_pr,intersect(points_prr,points_deb))\n",
    "#points=intersect(points_pr, points_deb)\n",
    "points=points.astype(int)\n",
    "\n",
    "for i in range (1,6):\n",
    "    delta_pr=(pr_series[points,i]-pr_series[points,0])/pr_series[points,0]\n",
    "    delta_prr=(prr_series[points,i]-prr_series[points,0])/prr_series[points,0]\n",
    "    delta_deb=(deb_series[points,i]-deb_series[points,0])/deb_series[points,0]\n",
    "    plt.scatter(delta_deb, delta_pr, color=\"black\", label=\"tracé des Deltas\")\n",
    "    plt.xlabel(\"delta précipitations\")\n",
    "    plt.ylabel(\"delta débits\")\n",
    "    plt.legend(loc='upper left')\n",
    "    plt.show()"
   ]
  },
  {
   "cell_type": "code",
   "execution_count": 88,
   "metadata": {},
   "outputs": [
    {
     "ename": "IndexError",
     "evalue": "index 4497 is out of bounds for axis 0 with size 4497",
     "output_type": "error",
     "traceback": [
      "\u001b[0;31m---------------------------------------------------------------------------\u001b[0m",
      "\u001b[0;31mIndexError\u001b[0m                                Traceback (most recent call last)",
      "\u001b[0;32m<ipython-input-88-d9d613f55603>\u001b[0m in \u001b[0;36m<module>\u001b[0;34m\u001b[0m\n\u001b[0;32m----> 1\u001b[0;31m \u001b[0mintersect\u001b[0m\u001b[0;34m(\u001b[0m\u001b[0mpoints_pr\u001b[0m\u001b[0;34m,\u001b[0m\u001b[0mpoints_deb\u001b[0m\u001b[0;34m)\u001b[0m\u001b[0;34m\u001b[0m\u001b[0;34m\u001b[0m\u001b[0m\n\u001b[0m",
      "\u001b[0;32m<ipython-input-85-a8d5eaeed716>\u001b[0m in \u001b[0;36mintersect\u001b[0;34m(X, Y)\u001b[0m\n\u001b[1;32m     63\u001b[0m             \u001b[0ma\u001b[0m\u001b[0;34m+=\u001b[0m\u001b[0;36m1\u001b[0m\u001b[0;34m\u001b[0m\u001b[0;34m\u001b[0m\u001b[0m\n\u001b[1;32m     64\u001b[0m             \u001b[0mb\u001b[0m\u001b[0;34m+=\u001b[0m\u001b[0;36m1\u001b[0m\u001b[0;34m\u001b[0m\u001b[0;34m\u001b[0m\u001b[0m\n\u001b[0;32m---> 65\u001b[0;31m         \u001b[0;32mif\u001b[0m \u001b[0mX\u001b[0m\u001b[0;34m[\u001b[0m\u001b[0ma\u001b[0m\u001b[0;34m]\u001b[0m\u001b[0;34m>\u001b[0m\u001b[0mY\u001b[0m\u001b[0;34m[\u001b[0m\u001b[0mb\u001b[0m\u001b[0;34m]\u001b[0m\u001b[0;34m:\u001b[0m\u001b[0;34m\u001b[0m\u001b[0;34m\u001b[0m\u001b[0m\n\u001b[0m\u001b[1;32m     66\u001b[0m             \u001b[0mb\u001b[0m\u001b[0;34m+=\u001b[0m\u001b[0;36m1\u001b[0m\u001b[0;34m\u001b[0m\u001b[0;34m\u001b[0m\u001b[0m\n\u001b[1;32m     67\u001b[0m         \u001b[0;32mif\u001b[0m \u001b[0mX\u001b[0m\u001b[0;34m[\u001b[0m\u001b[0ma\u001b[0m\u001b[0;34m]\u001b[0m\u001b[0;34m<\u001b[0m\u001b[0mY\u001b[0m\u001b[0;34m[\u001b[0m\u001b[0mb\u001b[0m\u001b[0;34m]\u001b[0m\u001b[0;34m:\u001b[0m\u001b[0;34m\u001b[0m\u001b[0;34m\u001b[0m\u001b[0m\n",
      "\u001b[0;31mIndexError\u001b[0m: index 4497 is out of bounds for axis 0 with size 4497"
     ]
    }
   ],
   "source": [
    "intersect(points_pr,points_deb)"
   ]
  },
  {
   "cell_type": "code",
   "execution_count": 106,
   "metadata": {},
   "outputs": [],
   "source": [
    "\n"
   ]
  },
  {
   "cell_type": "code",
   "execution_count": 100,
   "metadata": {},
   "outputs": [
    {
     "data": {
      "text/plain": [
       "6508"
      ]
     },
     "execution_count": 100,
     "metadata": {},
     "output_type": "execute_result"
    }
   ],
   "source": [
    "len(points_pr)\n",
    "len(points_deb)"
   ]
  },
  {
   "cell_type": "code",
   "execution_count": 103,
   "metadata": {},
   "outputs": [
    {
     "data": {
      "text/plain": [
       "6525"
      ]
     },
     "execution_count": 103,
     "metadata": {},
     "output_type": "execute_result"
    }
   ],
   "source": [
    "points_pr[4496]\n",
    "points_deb[6507]"
   ]
  },
  {
   "cell_type": "code",
   "execution_count": 107,
   "metadata": {},
   "outputs": [
    {
     "data": {
      "text/plain": [
       "array([   0,    1,    3, ..., 6516, 6523, 6524])"
      ]
     },
     "execution_count": 107,
     "metadata": {},
     "output_type": "execute_result"
    }
   ],
   "source": [
    "intersect(points_pr,points_deb)"
   ]
  }
 ],
 "metadata": {
  "kernelspec": {
   "display_name": "Python 3",
   "language": "python",
   "name": "python3"
  },
  "language_info": {
   "codemirror_mode": {
    "name": "ipython",
    "version": 3
   },
   "file_extension": ".py",
   "mimetype": "text/x-python",
   "name": "python",
   "nbconvert_exporter": "python",
   "pygments_lexer": "ipython3",
   "version": "3.7.6"
  }
 },
 "nbformat": 4,
 "nbformat_minor": 4
}
